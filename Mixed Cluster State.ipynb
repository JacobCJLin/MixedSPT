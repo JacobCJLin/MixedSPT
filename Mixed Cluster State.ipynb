{
 "cells": [
  {
   "cell_type": "code",
   "execution_count": 67,
   "id": "52f72810",
   "metadata": {},
   "outputs": [],
   "source": [
    "using LinearAlgebra,Serialization"
   ]
  },
  {
   "cell_type": "markdown",
   "id": "b337fdb7",
   "metadata": {},
   "source": [
    "### Functions \n",
    "\n",
    "Some basics of my setup of exact diagonalization and the functions are explained below. \n",
    "We simply use the computational basis as our basis for the matrix representation. \n",
    "* A \"basis\" (computational basis) is an array storing the qubit configuration. e.g. [0,0,0,0] or [1,0,1,0] etc. \n",
    "* A \"code\" is a number which encodes the basis, which is encoded as $ \\sum_{i=1}^{L}basis[i]*d^{i-1}$. (For qubit, $d=2$.)  \n",
    "\n",
    "**codetobasis** and **basistocode** convert code to basis and basis to code, respectively.\n",
    "\n",
    "Note that since Julia labels an array starting with 1, the indices of a vector and the codes are converted as $index=code+1$. Here the conversion is simple since we do not use symmetry or conservation laws of the system. So all the codes $a=0 \\dots 2^N-1$ are used. In practice, if we need to use symmtry or conservation law, I would prepare a dictionary *Dict()* to record which index corresponds to which code.\n",
    "\n",
    "> To form a Hamiltonian matrix or a Linbladian matrix, it is easier to have a function which takes an operator *$\\hat{O}$* operating on *sites* and a basis state *$|code\\rangle$*, outputing $\\hat{O}_{sites}|code\\rangle$.\n",
    "\n",
    "The function **opcode** takes a matrix *op*, which operates on the sites *sites* on a *code* basis state with *N* sites and total Hilbert space dimension *dim*.\n",
    "For example, if one would like to operate $\\hat{O}=X_1Y_4$ on $|5\\rangle$, then \n",
    "~~~\n",
    "σx=[0 1;1 0]\n",
    "σy=[0 -1im;1im 0]\n",
    "σz=[1 0;0 -1];\n",
    "\n",
    "op=kron(σy,σz) #Note the reverse order of kron in julia\n",
    "code=5;\n",
    "N=6;\n",
    "dim=2^N;\n",
    "\n",
    "outvec=opcode(op,[1,4],code,N,dim)\n",
    "~~~\n"
   ]
  },
  {
   "cell_type": "code",
   "execution_count": 68,
   "id": "c2dfdf53",
   "metadata": {},
   "outputs": [
    {
     "data": {
      "text/plain": [
       "opcode (generic function with 1 method)"
      ]
     },
     "execution_count": 68,
     "metadata": {},
     "output_type": "execute_result"
    }
   ],
   "source": [
    "#convert a state code \"a\" to computational basis, e.g. 1=[1,0,0,0,0]\n",
    "function codetobasis(a::Int64,N::Int64,d=2) #a: code, N:number of quditsm d:local Hilbertspace dimension\n",
    "    basis=zeros(Int64,N);\n",
    "    temp=a;\n",
    "    for i=1:N\n",
    "        basis[i]=rem(temp,d);\n",
    "        temp=div(temp,d);\n",
    "    end\n",
    "    return basis;    \n",
    "end\n",
    "\n",
    "#basis to code converter\n",
    "function basistocode(basis::Array{Int64},d=2)\n",
    "    temp=0;\n",
    "    for i=1:length(basis)\n",
    "        temp+=basis[i]*d^(i-1);\n",
    "    end    \n",
    "    return temp;  \n",
    "end\n",
    "\n",
    "function opcode(op,sites,code,N,dim) # |output⟩ = Op_{sites} |code⟩; |code⟩ is a computational-basis state\n",
    "    outvec=zeros(eltype(op),dim)\n",
    "    basis=codetobasis(code,N)\n",
    "    ind=basistocode(basis[sites])+1\n",
    "    \n",
    "    for i=1:size(op)[1]\n",
    "        newbasis=copy(basis)\n",
    "        nbs=codetobasis(i-1,length(sites))\n",
    "\n",
    "        newbasis[sites]=nbs\n",
    "        newindex=basistocode(newbasis)+1\n",
    "        outvec[newindex] += op[i,ind]\n",
    "    end\n",
    "    return outvec\n",
    "end"
   ]
  },
  {
   "cell_type": "markdown",
   "id": "5efd553d",
   "metadata": {},
   "source": [
    "### Matrix representation of a Linbladian\n",
    "It is convenient to \"flip\" the bra of the density matrices into ket (\"vectorize\" it). \n",
    "\n",
    "$\\rho =\\sum_{a,b=0}^{2^N-1} \\rho_{ab}|a\\rangle \\langle b| \\leftrightarrow |\\rho\\rangle\\rangle =\\sum_{a,b=0}^{2^N-1} \\rho_{ab}|a\\rangle |b\\rangle$.\n",
    "\n",
    "We will then use a basis with $2N$ sites to denote the computational basis for the Linbladian. The first $N$ denotes the configuration from code a and the last $N$ denotes the configuration from code b. In this vectorized representation, a Linbladian is written as \n",
    "\n",
    "$\\mathbf{L} = \\sum_{i} L_i \\otimes L^*_i - \\frac{1}{2} L_i^{\\dagger}L_i \\otimes I - \\frac{1}{2} I \\otimes (L_i^{\\dagger}L_i)^{T} $.\n",
    "\n",
    "* The function *JLJRcode* realizes $L_i \\otimes L^*_i$.\n",
    "* The function *JLJLcode* realizes $L_i^{\\dagger}L_i \\otimes I$.\n",
    "* The function *JRJRcode* realizes $I \\otimes (L_i^{\\dagger}L_i)^{T}$.\n",
    "\n",
    "> Note that in this way of organizing the basis, one can convert $\\rho$ to $|\\rho\\rangle$ in Julia using *rhovec=reshape(rho,dim^2)* and $|\\rho\\rangle$ to $\\rho$ using *rho=reshape(rhovec,dim,dim)*"
   ]
  },
  {
   "cell_type": "code",
   "execution_count": 69,
   "id": "e07b72b1",
   "metadata": {},
   "outputs": [
    {
     "data": {
      "text/plain": [
       "Linbcode (generic function with 1 method)"
      ]
     },
     "execution_count": 69,
     "metadata": {},
     "output_type": "execute_result"
    }
   ],
   "source": [
    "function JLJRcode(Jumpop,sites,code,N,dim) # JL ⊗ JR^{*} |code⟩\n",
    "    op=kron(conj(Jumpop),Jumpop)\n",
    "    return opcode(op,[sites;sites .+ N],code,2N,dim^2)\n",
    "end\n",
    "\n",
    "function JLJLcode(Jumpop,sites,code,N,dim) # JL^{†}* JL |code⟩\n",
    "    op=Jumpop'*Jumpop\n",
    "    return opcode(op,sites,code,2N,dim^2)\n",
    "end\n",
    "\n",
    "function JRJRcode(Jumpop,sites,code,N,dim) # transpose(JR^{†}* JR) |code⟩\n",
    "    op=transpose(Jumpop'*Jumpop)\n",
    "    return opcode(op,sites .+N,code,2N,dim^2)\n",
    "end\n",
    "\n",
    "Linbcode(Jumpop,sites,code,N,dim)=JLJRcode(Jumpop,sites,code,N,dim) - 0.5*JLJLcode(Jumpop,sites,code,N,dim)- 0.5*JRJRcode(Jumpop,sites,code,N,dim)\n"
   ]
  },
  {
   "cell_type": "markdown",
   "id": "5b42f543",
   "metadata": {},
   "source": [
    "Construct $\\mathbf{Z}_2$ symmetry operators "
   ]
  },
  {
   "cell_type": "code",
   "execution_count": 70,
   "id": "592e68bc",
   "metadata": {},
   "outputs": [
    {
     "data": {
      "text/plain": [
       "getZ2o (generic function with 1 method)"
      ]
     },
     "execution_count": 70,
     "metadata": {},
     "output_type": "execute_result"
    }
   ],
   "source": [
    "function getZ2e(L)\n",
    "    op=1\n",
    "    Id=Matrix(I,2,2)\n",
    "    for j=1:L\n",
    "       rem(j,2) == 0 ? op=kron(σx,op) :  op=kron(Id,op) \n",
    "    end\n",
    "    return op\n",
    "end\n",
    "\n",
    "function getZ2o(L)\n",
    "    op=1\n",
    "    Id=Matrix(I,2,2)\n",
    "    for j=1:L\n",
    "       rem(j,2) == 1 ? op=kron(σx,op) :  op=kron(Id,op) \n",
    "    end\n",
    "    return op\n",
    "end"
   ]
  },
  {
   "cell_type": "markdown",
   "id": "1a38b035",
   "metadata": {},
   "source": [
    "### Forming the $ρ_{cluster}$ and $\\Psi_z$ configurations for later use  \n",
    "The fixed point mixed state is\n",
    "$\\rho_{clus} = \\frac{1}{2^{N/2}}\\sum_{ z_{2n+1}} |\\Psi_{z_{2n+1}} \\rangle \\langle \\Psi_{z_{2n+1}} |$"
   ]
  },
  {
   "cell_type": "code",
   "execution_count": 186,
   "id": "aeb05fdb",
   "metadata": {},
   "outputs": [],
   "source": [
    "L=4\n",
    "dim=2^L\n",
    "Linbdim=dim^2\n",
    "\n",
    "σx=[0 1;1 0]\n",
    "σy=[0 -1im;1im 0]\n",
    "σz=[1 0;0 -1];\n",
    "\n",
    "xp=[1,1]/sqrt(2)    #|+⟩\n",
    "xm=[1,-1]/sqrt(2)   #|-⟩\n",
    "z0=[1,0]            #|0⟩\n",
    "z1=[0,-1];          #|1⟩"
   ]
  },
  {
   "cell_type": "code",
   "execution_count": 187,
   "id": "87a55018",
   "metadata": {},
   "outputs": [],
   "source": [
    "#Symmetry operators\n",
    "U2e=getZ2e(L)\n",
    "U2o=getZ2o(L);\n",
    "Id=Matrix(I,dim,dim)\n",
    "Z2ee=kron(U2e,U2e)\n",
    "Z2oo=kron(U2o,U2o);\n",
    "Z2eI=kron(U2e,Id)\n",
    "Z2Ie=kron(Id,U2e);"
   ]
  },
  {
   "cell_type": "code",
   "execution_count": 188,
   "id": "22e016ed",
   "metadata": {},
   "outputs": [],
   "source": [
    "function getΨzstate(zconfig) #input the configuration {z_{2n+1}}, outputs |\\Psi_{z_{2n+1}} \n",
    "    Lover2=length(zconfig)\n",
    "    Ψz=1\n",
    "    for j=1:Lover2\n",
    "        zconfig[j]== 0 ? Ψz=kron(z0,Ψz) : Ψz=kron(z1,Ψz)\n",
    "        jp1=rem(j,Lover2)+1\n",
    "        #Fixing x-spin on the even sites according to z\n",
    "        zconfig[j]==zconfig[jp1] ? Ψz=kron(xp,Ψz) : Ψz=kron(xm,Ψz)\n",
    "    \n",
    "    end    \n",
    "    return Ψz\n",
    "end\n",
    "\n",
    "#specify the ${z_2n+1}$ configurations first. For L sites, there are 2^{L/2} configurations\n",
    "\n",
    "#Ψzstates=zeros(dim,2^(div(L,2)))\n",
    "ρclus=zeros(dim,dim) \n",
    "for code=0:2^(div(L,2))-1\n",
    "    zconfig=codetobasis(code,div(L,2))\n",
    "    Ψz=getΨzstate(zconfig)\n",
    "    #Ψzstates[:,code+1]=getΨzstate(zconfig)\n",
    "    ρclus+=Ψz*Ψz'\n",
    "end\n",
    "\n",
    "#vectorize the density matrix\n",
    "ρclusvec=reshape(copy(ρclus),dim^2); \n",
    "normalize!(ρclusvec); \n",
    "\n",
    "#density matrix\n",
    "ρclus=ρclus/tr(ρclus); \n"
   ]
  },
  {
   "cell_type": "code",
   "execution_count": 189,
   "id": "c5eec738",
   "metadata": {},
   "outputs": [
    {
     "data": {
      "text/plain": [
       "(0.0, 0.0, 0.0, 0.0)"
      ]
     },
     "execution_count": 189,
     "metadata": {},
     "output_type": "execute_result"
    }
   ],
   "source": [
    "#check the symmetry\n",
    "norm(Z2ee*ρclusvec-ρclusvec),norm(Z2eI*ρclusvec-ρclusvec),norm(Z2Ie*ρclusvec-ρclusvec),norm(Z2oo*ρclusvec-ρclusvec)"
   ]
  },
  {
   "cell_type": "markdown",
   "id": "97bd1036",
   "metadata": {},
   "source": [
    "### $\\mathcal{L}_0$\n",
    "\n",
    "$L^{\\mu=1}_j= |1\\rangle \\langle 7 |$, $L^{\\mu=2}_j= |2\\rangle \\langle 8 |$, $L^{\\mu=3}_j= |3\\rangle \\langle 5 |$, $L^{\\mu=4}_j= |4\\rangle \\langle 6 |$. \n",
    "$j$ is on the even sites"
   ]
  },
  {
   "cell_type": "code",
   "execution_count": 190,
   "id": "2edea24f",
   "metadata": {},
   "outputs": [],
   "source": [
    "#local eigenstates and local jump operators for Linb0\n",
    "#Note the order of kron in Julia is reversed from my convention\n",
    "st1=kron(z0,kron(xp,z0))  #|1⟩=|0+0⟩\n",
    "st2=kron(z1,kron(xp,z1))  #|2⟩=|1+1⟩\n",
    "st3=kron(z1,kron(xm,z0))  #|3⟩=|0-1⟩\n",
    "st4=kron(z0,kron(xm,z1))  #|4⟩=|1-0⟩\n",
    "st5=kron(z0,kron(xm,z0))  #|5⟩=|0-0⟩\n",
    "st6=kron(z1,kron(xm,z1))  #|6⟩=|1-1⟩\n",
    "st7=kron(z1,kron(xp,z0))  #|7⟩=|0+1⟩\n",
    "st8=kron(z0,kron(xp,z1))  #|8⟩=|1+0⟩\n",
    "\n",
    "#Jump operators for Linb0\n",
    "#L0μ=[(st1)*(st7)',(st2)*(st8)',(st3)*(st5)',(st4)*(st6)']; #strong x strong symmetry\n",
    "L0μ=[(st1)*(st7+st8)',(st2)*(st7-st8)',(st3)*(st5+st6)',(st4)*(st5-st6)']; #strong x weak symmetry\n"
   ]
  },
  {
   "cell_type": "code",
   "execution_count": 191,
   "id": "f346c0c2",
   "metadata": {},
   "outputs": [],
   "source": [
    "Linb0=zeros(Linbdim,Linbdim)\n",
    "for ind=1:Linbdim\n",
    "    for μ=1:4\n",
    "        for j=2:2:L #on even sites\n",
    "            jm1=rem(j+L-2,L)+1\n",
    "            jp1=rem(j,L)+1\n",
    "            sites=[jm1,j,jp1]\n",
    "            Linb0[:,ind]+=Linbcode(L0μ[μ],sites,ind-1,L,dim)\n",
    "        \n",
    "        end\n",
    "    end\n",
    "end"
   ]
  },
  {
   "cell_type": "code",
   "execution_count": 192,
   "id": "c99c7a64",
   "metadata": {},
   "outputs": [
    {
     "name": "stdout",
     "output_type": "stream",
     "text": [
      "norm(Linb0 * ρclusvec) = 9.813077866773594e-17\n"
     ]
    }
   ],
   "source": [
    "#checking if ρclusvec is a steady state\n",
    "@show norm(Linb0*ρclusvec);"
   ]
  },
  {
   "cell_type": "code",
   "execution_count": 193,
   "id": "19397caf",
   "metadata": {},
   "outputs": [],
   "source": [
    "eigL0=eigen(Linb0);"
   ]
  },
  {
   "cell_type": "code",
   "execution_count": 194,
   "id": "7c4a57ae",
   "metadata": {},
   "outputs": [
    {
     "data": {
      "text/plain": [
       "21-element Vector{ComplexF64}:\n",
       "     -0.9999999999999977 + 0.0im\n",
       "     -0.9999999999999977 + 0.0im\n",
       "     -0.9999999999999972 + 0.0im\n",
       " -1.7000627803346464e-15 + 0.0im\n",
       "  -1.375645201390133e-15 + 0.0im\n",
       "  -6.954811643861321e-16 + 0.0im\n",
       "   -5.91437117801615e-16 + 0.0im\n",
       "   -5.81945053524526e-16 - 2.873739942766655e-16im\n",
       "   -5.81945053524526e-16 + 2.873739942766655e-16im\n",
       "  -3.852054692752242e-16 + 0.0im\n",
       "  -2.906780634795668e-16 + 0.0im\n",
       "  -2.220446049250313e-16 + 0.0im\n",
       "   -7.47712144757498e-17 + 0.0im\n",
       "                     0.0 + 0.0im\n",
       "  1.7555510870879602e-17 - 3.7023869999958335e-16im\n",
       "  1.7555510870879602e-17 + 3.7023869999958335e-16im\n",
       "   2.980406711657805e-16 + 0.0im\n",
       "   3.514975221738889e-16 + 0.0im\n",
       "   4.449673581118517e-16 + 0.0im\n",
       "   5.102770061206795e-16 + 0.0im\n",
       "  1.2629922077467538e-15 + 0.0im"
      ]
     },
     "execution_count": 194,
     "metadata": {},
     "output_type": "execute_result"
    }
   ],
   "source": [
    "eigL0.values[end-20:end]"
   ]
  },
  {
   "cell_type": "markdown",
   "id": "79bee625",
   "metadata": {},
   "source": [
    "### $\\mathcal{L}_1$: decoheres the states \n",
    "$L_j = Z_j$ on the odd sites"
   ]
  },
  {
   "cell_type": "code",
   "execution_count": 195,
   "id": "3ca7648a",
   "metadata": {},
   "outputs": [],
   "source": [
    "Linb1=zeros(Linbdim,Linbdim)\n",
    "for ind=1:Linbdim\n",
    "        for j=1:2:L\n",
    "            sites=[j]\n",
    "            Linb1[:,ind]+=Linbcode(σz,sites,ind-1,L,dim)\n",
    "        end\n",
    "\n",
    "end"
   ]
  },
  {
   "cell_type": "code",
   "execution_count": 196,
   "id": "c51b99a1",
   "metadata": {},
   "outputs": [
    {
     "name": "stdout",
     "output_type": "stream",
     "text": [
      "norm((Linb0 + Linb1) * ρclusvec) = 9.813077866773594e-17\n"
     ]
    }
   ],
   "source": [
    "#Testing if ρclusvec is also a steady state of L0+L1\n",
    "@show norm((Linb0+Linb1)*ρclusvec);"
   ]
  },
  {
   "cell_type": "markdown",
   "id": "c3cacb9b",
   "metadata": {},
   "source": [
    "### $\\mathcal{L}_2$: adjusts the \"population\" distribution\n",
    "\n",
    "$L^{\\mu=1}_j = Z_{j-1}\\sigma^+_j Z_{j+1}$, $L^{\\mu=2}_j = Z_{j-1}\\sigma^-_j Z_{j+1}$ on the odd sites"
   ]
  },
  {
   "cell_type": "code",
   "execution_count": 197,
   "id": "22b27dc9",
   "metadata": {},
   "outputs": [],
   "source": [
    "σp=[0 1;0 0]\n",
    "σm=[0 0;1 0]\n",
    "L2p=kron(kron(σz,σp),σz)\n",
    "L2m=kron(kron(σz,σm),σz)\n",
    "L2μ=[L2p,L2m];"
   ]
  },
  {
   "cell_type": "code",
   "execution_count": 198,
   "id": "7beb6356",
   "metadata": {},
   "outputs": [],
   "source": [
    "Linb2=zeros(Linbdim,Linbdim)\n",
    "for ind=1:Linbdim\n",
    "    for μ=1:2\n",
    "        for j=1:2:L\n",
    "            jm1=rem(j+L-2,L)+1\n",
    "            jp1=rem(j,L)+1\n",
    "            sites=[jm1,j,jp1]\n",
    "            Linb2[:,ind]+=Linbcode(L2μ[μ],sites,ind-1,L,dim)\n",
    "        \n",
    "        end\n",
    "    end\n",
    "end"
   ]
  },
  {
   "cell_type": "code",
   "execution_count": 199,
   "id": "63f44bbf",
   "metadata": {},
   "outputs": [],
   "source": [
    "Linb=Linb0+Linb1+Linb2;"
   ]
  },
  {
   "cell_type": "code",
   "execution_count": 200,
   "id": "4f59669e",
   "metadata": {},
   "outputs": [
    {
     "name": "stdout",
     "output_type": "stream",
     "text": [
      "norm(Linb * ρclusvec) = 3.589494578342556e-16\n"
     ]
    }
   ],
   "source": [
    "#Testing if ρclusvec is also a steady state of L0+L1+L2\n",
    "@show norm(Linb*ρclusvec);"
   ]
  },
  {
   "cell_type": "code",
   "execution_count": 201,
   "id": "7f47fef0",
   "metadata": {},
   "outputs": [],
   "source": [
    "eigL=eigen(Linb);"
   ]
  },
  {
   "cell_type": "code",
   "execution_count": 202,
   "id": "cbe4f791",
   "metadata": {},
   "outputs": [
    {
     "data": {
      "text/plain": [
       "3-element Vector{ComplexF64}:\n",
       "      -0.999999999999997 + 0.0im\n",
       " -1.2307917031491435e-15 + 0.0im\n",
       "  -6.052278749947602e-16 + 0.0im"
      ]
     },
     "execution_count": 202,
     "metadata": {},
     "output_type": "execute_result"
    }
   ],
   "source": [
    "eigL.values[end-2:end]"
   ]
  },
  {
   "cell_type": "markdown",
   "id": "feaaefbc",
   "metadata": {},
   "source": [
    "#### Check the symmetries of the steady state"
   ]
  },
  {
   "cell_type": "code",
   "execution_count": 203,
   "id": "49030754",
   "metadata": {},
   "outputs": [
    {
     "data": {
      "text/plain": [
       "(1.4801783679127622e-15, 1.0663999071224517, 1.6919784981166948, 8.922936293941372e-16)"
      ]
     },
     "execution_count": 203,
     "metadata": {},
     "output_type": "execute_result"
    }
   ],
   "source": [
    "ρst1=eigL.vectors[:,end]\n",
    "ρst1=ρst1/norm(ρst1)\n",
    "\n",
    "ρst2=eigL.vectors[:,end-1]\n",
    "ρst2=ρst2/norm(ρst2)\n",
    "\n",
    "norm(Z2ee*ρst1-ρst1),norm(Z2eI*ρst1-ρst1),norm(Z2Ie*ρst1+ρst1),norm(Z2oo*ρst1-ρst1)\n"
   ]
  },
  {
   "cell_type": "code",
   "execution_count": 204,
   "id": "e43d6e35",
   "metadata": {},
   "outputs": [
    {
     "data": {
      "text/plain": [
       "(1.36768393675572e-15, 0.20711914538765916, 1.9892465054924409, 1.0228114088382776e-15)"
      ]
     },
     "execution_count": 204,
     "metadata": {},
     "output_type": "execute_result"
    }
   ],
   "source": [
    "norm(Z2ee*ρst2-ρst2),norm(Z2eI*ρst2+ρst2),norm(Z2Ie*ρst2-ρst2),norm(Z2oo*ρst2-ρst2)"
   ]
  },
  {
   "cell_type": "code",
   "execution_count": 205,
   "id": "42028b29",
   "metadata": {},
   "outputs": [
    {
     "name": "stdout",
     "output_type": "stream",
     "text": [
      "norm(ρstp) = 1.1964094696401453\n"
     ]
    },
    {
     "data": {
      "text/plain": [
       "(1.217198171731104e-15, 0.0, 1.217198171731104e-15, 6.560335962597594e-16)"
      ]
     },
     "execution_count": 205,
     "metadata": {},
     "output_type": "execute_result"
    }
   ],
   "source": [
    "ρstp=(ρst1 + Z2eI*ρst1)/sqrt(2); @show norm(ρstp)\n",
    "ρstp=ρstp/norm(ρstp)\n",
    "norm(Z2ee*ρstp-ρstp),norm(Z2eI*ρstp-ρstp),norm(Z2Ie*ρstp-ρstp),norm(Z2oo*ρstp-ρstp)"
   ]
  },
  {
   "cell_type": "code",
   "execution_count": 206,
   "id": "d1f32447",
   "metadata": {},
   "outputs": [
    {
     "name": "stdout",
     "output_type": "stream",
     "text": [
      "norm(ρstm) = 0.7540586057829899\n"
     ]
    },
    {
     "data": {
      "text/plain": [
       "(2.104987576023561e-15, 0.0, 2.104987576023561e-15, 1.2853279154961122e-15)"
      ]
     },
     "execution_count": 206,
     "metadata": {},
     "output_type": "execute_result"
    }
   ],
   "source": [
    "ρstm=(ρst1 - Z2eI*ρst1)/sqrt(2); @show norm(ρstm)\n",
    "ρstm=ρstm/norm(ρstm)\n",
    "norm(Z2ee*ρstm-ρstm),norm(Z2eI*ρstm+ρstm),norm(Z2Ie*ρstm+ρstm),norm(Z2oo*ρstm-ρstm)"
   ]
  },
  {
   "cell_type": "code",
   "execution_count": 213,
   "id": "21b96161",
   "metadata": {},
   "outputs": [
    {
     "name": "stdout",
     "output_type": "stream",
     "text": [
      "norm(ρstpm) = 1.3995294012910787e-15\n"
     ]
    },
    {
     "data": {
      "text/plain": [
       "(1.9996492922815474, 1.9998920669359996, 0.0349047734000307, 0.6568211578073426)"
      ]
     },
     "execution_count": 213,
     "metadata": {},
     "output_type": "execute_result"
    }
   ],
   "source": [
    "ρstpm=(ρst1 + Z2eI*ρst1 - Z2Ie*ρst1 - Z2ee*ρst1)/sqrt(2); @show norm(ρstpm)\n",
    "ρstpm=ρstpm/norm(ρstpm)\n",
    "norm(Z2ee*ρstpm-ρstpm),norm(Z2eI*ρstpm+ρstpm),norm(Z2Ie*ρstpm+ρstpm),norm(Z2oo*ρstpm-ρstpm)"
   ]
  },
  {
   "cell_type": "code",
   "execution_count": 207,
   "id": "d17844dc",
   "metadata": {},
   "outputs": [
    {
     "data": {
      "text/plain": [
       "0.9999999999999998 + 0.0im"
      ]
     },
     "execution_count": 207,
     "metadata": {},
     "output_type": "execute_result"
    }
   ],
   "source": [
    "#Checking the overlap between ++ state and the |ρcluster>\n",
    "dot(ρstp,ρclusvec)"
   ]
  },
  {
   "cell_type": "markdown",
   "id": "eb000502",
   "metadata": {},
   "source": [
    "Understand the wavefunction of $ρ_{--}$. Operate Hadamard gates on the even sites for easier representation\n"
   ]
  },
  {
   "cell_type": "code",
   "execution_count": 208,
   "id": "80471d97",
   "metadata": {},
   "outputs": [],
   "source": [
    "Hadamard=[1 1;1 -1]/sqrt(2);\n",
    "Id=Matrix(I,2,2)\n",
    "UHeven=1\n",
    "for j=1:L\n",
    "   rem(j,2)==0 ? UHeven=kron(Hadamard,UHeven) : UHeven=kron(Id,UHeven)\n",
    "end\n",
    "UHeven2=kron(transpose(UHeven),UHeven);"
   ]
  },
  {
   "cell_type": "code",
   "execution_count": 209,
   "id": "6b980118",
   "metadata": {},
   "outputs": [],
   "source": [
    "Hρstm=UHeven2*ρstm;"
   ]
  },
  {
   "cell_type": "code",
   "execution_count": 210,
   "id": "13d055da",
   "metadata": {
    "scrolled": false
   },
   "outputs": [
    {
     "name": "stdout",
     "output_type": "stream",
     "text": [
      "0.35355339059327373 + 0.0im [0, 1, 0, 0]\n",
      "0.35355339059327373 + 0.0im [1, 1, 0, 0]\n",
      "0.3535533905932737 + 0.0im [0, 1, 1, 0]\n",
      "0.3535533905932733 + 0.0im [1, 1, 1, 0]\n",
      "0.35355339059327373 + 0.0im [0, 0, 0, 1]\n",
      "0.3535533905932738 + 0.0im [1, 0, 0, 1]\n",
      "0.35355339059327373 + 0.0im [0, 0, 1, 1]\n",
      "0.35355339059327334 + 0.0im [1, 0, 1, 1]\n"
     ]
    }
   ],
   "source": [
    "for i=1:length(ρstm)\n",
    "    abs(Hρstm[i]) > 1E-10 ? println(Hρstm[i],\" \",codetobasis(i-1,2L)[1:L]) : nothing\n",
    "end"
   ]
  },
  {
   "cell_type": "code",
   "execution_count": 211,
   "id": "f1ab1bc0",
   "metadata": {},
   "outputs": [
    {
     "data": {
      "text/plain": [
       "2.1402518545605134e-15"
      ]
     },
     "execution_count": 211,
     "metadata": {},
     "output_type": "execute_result"
    }
   ],
   "source": [
    "norm(Linb0*ρstm)"
   ]
  },
  {
   "cell_type": "markdown",
   "id": "7228f374",
   "metadata": {},
   "source": [
    "There are two steady states. It has to be at least two steady states since one of the $Z_2$ symmetry is strong?\n",
    "Though indeed *ρclus* is in the steady state space."
   ]
  },
  {
   "cell_type": "markdown",
   "id": "e1ac6a37",
   "metadata": {},
   "source": [
    "## Open boundary condition"
   ]
  },
  {
   "cell_type": "code",
   "execution_count": 263,
   "id": "fc27a75c",
   "metadata": {},
   "outputs": [
    {
     "data": {
      "text/plain": [
       "4096"
      ]
     },
     "execution_count": 263,
     "metadata": {},
     "output_type": "execute_result"
    }
   ],
   "source": [
    "L=6\n",
    "dim=2^L\n",
    "Linbdim=dim^2\n"
   ]
  },
  {
   "cell_type": "code",
   "execution_count": 264,
   "id": "92e9509c",
   "metadata": {},
   "outputs": [],
   "source": [
    "#Symmetry operators\n",
    "U2e=getZ2e(L)\n",
    "U2o=getZ2o(L);\n",
    "Id=Matrix(I,dim,dim)\n",
    "Z2ee=kron(U2e,U2e)\n",
    "Z2oo=kron(U2o,U2o);\n",
    "Z2Ie=kron(U2e,Id)\n",
    "Z2eI=kron(Id,U2e);"
   ]
  },
  {
   "cell_type": "code",
   "execution_count": 265,
   "id": "187d60ac",
   "metadata": {},
   "outputs": [],
   "source": [
    "#local eigenstates and local jump operators for Linb0\n",
    "xp=[1,1]/sqrt(2)    #|+⟩\n",
    "xm=[1,-1]/sqrt(2)   #|-⟩\n",
    "z0=[1,0]            #|0⟩\n",
    "z1=[0,-1]           #|1⟩\n",
    "#Note the order of kron in Julia is reversed from my convention\n",
    "st1=kron(z0,kron(xp,z0))  #|1⟩=|0+0⟩\n",
    "st2=kron(z1,kron(xp,z1))  #|2⟩=|1+1⟩\n",
    "st3=kron(z1,kron(xm,z0))  #|3⟩=|0-1⟩\n",
    "st4=kron(z0,kron(xm,z1))  #|4⟩=|1-0⟩\n",
    "st5=kron(z0,kron(xm,z0))  #|5⟩=|0-0⟩\n",
    "st6=kron(z1,kron(xm,z1))  #|6⟩=|1-1⟩\n",
    "st7=kron(z1,kron(xp,z0))  #|7⟩=|0+1⟩\n",
    "st8=kron(z0,kron(xp,z1))  #|8⟩=|1+0⟩\n",
    "\n",
    "#Jump operators for Linb0\n",
    "#L0μ=[(st1)*(st7)',(st2)*(st8)',(st3)*(st5)',(st4)*(st6)']; #strong x strong symmetry\n",
    "L0μ=[(st1)*(st7+st8)',(st2)*(st7-st8)',(st3)*(st5+st6)',(st4)*(st5-st6)']; #strong x weak symmetry\n"
   ]
  },
  {
   "cell_type": "code",
   "execution_count": 266,
   "id": "169c7db4",
   "metadata": {},
   "outputs": [],
   "source": [
    "Linb0=zeros(Linbdim,Linbdim)\n",
    "for ind=1:Linbdim\n",
    "    for μ=1:4\n",
    "        for j=2:2:L-1 #on even sites\n",
    "            jm1=rem(j+L-2,L)+1\n",
    "            jp1=rem(j,L)+1\n",
    "            sites=[jm1,j,jp1]\n",
    "            Linb0[:,ind]+=Linbcode(L0μ[μ],sites,ind-1,L,dim)\n",
    "        \n",
    "        end\n",
    "    end\n",
    "end"
   ]
  },
  {
   "cell_type": "code",
   "execution_count": 267,
   "id": "58546b10",
   "metadata": {},
   "outputs": [],
   "source": [
    "Linb1=zeros(Linbdim,Linbdim)\n",
    "for ind=1:Linbdim\n",
    "        for j=1:2:L\n",
    "            sites=[j]\n",
    "            Linb1[:,ind]+=Linbcode(σz,sites,ind-1,L,dim)\n",
    "        end\n",
    "\n",
    "end"
   ]
  },
  {
   "cell_type": "code",
   "execution_count": 268,
   "id": "8ac35c64",
   "metadata": {},
   "outputs": [],
   "source": [
    "σp=[0 1;0 0]\n",
    "σm=[0 0;1 0]\n",
    "L2p=kron(kron(σz,σp),σz)\n",
    "L2m=kron(kron(σz,σm),σz)\n",
    "L2μ=[L2p,L2m];\n",
    "\n",
    "Linb2=zeros(Linbdim,Linbdim)\n",
    "for ind=1:Linbdim\n",
    "    for μ=1:2\n",
    "        for j=1:2:L\n",
    "            jm1=rem(j+L-2,L)+1\n",
    "            jp1=rem(j,L)+1\n",
    "            sites=[jm1,j,jp1]\n",
    "            Linb2[:,ind]+=Linbcode(L2μ[μ],sites,ind-1,L,dim)\n",
    "        \n",
    "        end\n",
    "    end\n",
    "end"
   ]
  },
  {
   "cell_type": "code",
   "execution_count": 269,
   "id": "f712a5db",
   "metadata": {},
   "outputs": [],
   "source": [
    "Linb=Linb0+Linb1+Linb2;"
   ]
  },
  {
   "cell_type": "code",
   "execution_count": 270,
   "id": "98d6e7e9",
   "metadata": {},
   "outputs": [],
   "source": [
    "eigL=eigen(Linb);"
   ]
  },
  {
   "cell_type": "code",
   "execution_count": 271,
   "id": "146122e9",
   "metadata": {},
   "outputs": [
    {
     "data": {
      "text/plain": [
       "11-element Vector{ComplexF64}:\n",
       "     -1.0000000000000007 + 0.0im\n",
       "     -0.9999999999999986 + 0.0im\n",
       "     -0.9999999999999961 + 0.0im\n",
       "     -0.9999999999999944 + 0.0im\n",
       "     -0.9999999999999942 + 0.0im\n",
       "     -0.9999999999999896 + 0.0im\n",
       "     -0.9999999999999882 + 0.0im\n",
       " -1.4469689368691575e-15 + 0.0im\n",
       "   2.220446049250313e-16 + 0.0im\n",
       "  2.6520949506316732e-15 + 0.0im\n",
       "   3.552713678800501e-15 + 0.0im"
      ]
     },
     "execution_count": 271,
     "metadata": {},
     "output_type": "execute_result"
    }
   ],
   "source": [
    "eigL.values[end-10:end]"
   ]
  },
  {
   "cell_type": "code",
   "execution_count": 272,
   "id": "56e67530",
   "metadata": {},
   "outputs": [],
   "source": [
    "Id=Matrix(I,dim,dim)\n",
    "Ivec=reshape(Id,dim^2);"
   ]
  },
  {
   "cell_type": "code",
   "execution_count": 273,
   "id": "347fdb0e",
   "metadata": {},
   "outputs": [
    {
     "data": {
      "text/plain": [
       "(1.4142135623730931, 1.4142135623730934, 1.4142135623730931, 1.6290652945229635e-15)"
      ]
     },
     "execution_count": 273,
     "metadata": {},
     "output_type": "execute_result"
    }
   ],
   "source": [
    "ρst1=eigL.vectors[:,end];\n",
    "ρst1=ρst1/norm(ρst1)\n",
    "norm(Z2ee*ρst1-ρst1),norm(Z2eI*ρst1-ρst1),norm(Z2Ie*ρst1+ρst1),norm(Z2oo*ρst1-ρst1)"
   ]
  },
  {
   "cell_type": "code",
   "execution_count": 274,
   "id": "c5ebcb29",
   "metadata": {},
   "outputs": [
    {
     "data": {
      "text/plain": [
       "(1.4142135623730931, 1.4142135623730934, 1.4142135623730931, 1.6290652945229635e-15)"
      ]
     },
     "execution_count": 274,
     "metadata": {},
     "output_type": "execute_result"
    }
   ],
   "source": [
    "ρst2=eigL.vectors[:,end-1];\n",
    "ρst2=ρst2/norm(ρst2)\n",
    "norm(Z2ee*ρst1-ρst1),norm(Z2eI*ρst1-ρst1),norm(Z2Ie*ρst1+ρst1),norm(Z2oo*ρst1-ρst1)"
   ]
  },
  {
   "cell_type": "code",
   "execution_count": 275,
   "id": "b4bcd430",
   "metadata": {},
   "outputs": [
    {
     "name": "stdout",
     "output_type": "stream",
     "text": [
      "norm(ρstpp) = 2.000000000000006\n",
      "(norm(Linb * ρstpp), dot(Ivec, ρstpp)) = (6.015048664603527e-15, 2.8284271247461845 + 0.0im)\n"
     ]
    },
    {
     "data": {
      "text/plain": [
       "(0.0, 0.0, 0.0, 1.62906529452296e-15)"
      ]
     },
     "execution_count": 275,
     "metadata": {},
     "output_type": "execute_result"
    }
   ],
   "source": [
    "ρstpp=(ρst1 + Z2eI*ρst1 + Z2Ie*ρst1+ Z2ee*ρst1); @show norm(ρstpp)\n",
    "ρstpp=ρstpp/norm(ρstpp)\n",
    "@show norm(Linb*ρstpp),dot(Ivec,ρstpp)\n",
    "norm(Z2ee*ρstpp-ρstpp),norm(Z2eI*ρstpp-ρstpp),norm(Z2Ie*ρstpp-ρstpp),norm(Z2oo*ρstpp-ρstpp)"
   ]
  },
  {
   "cell_type": "code",
   "execution_count": 276,
   "id": "4be6dc38",
   "metadata": {},
   "outputs": [
    {
     "name": "stdout",
     "output_type": "stream",
     "text": [
      "norm(ρstpm) = 2.000000000000006\n",
      "(norm(Linb * ρstpm), dot(Ivec, ρstpm)) = (6.015048664603527e-15, -5.065392549852277e-16 + 0.0im)\n"
     ]
    },
    {
     "data": {
      "text/plain": [
       "(0.0, 0.0, 0.0, 1.62906529452296e-15)"
      ]
     },
     "execution_count": 276,
     "metadata": {},
     "output_type": "execute_result"
    }
   ],
   "source": [
    "ρstpm=(ρst1 + Z2eI*ρst1 - Z2Ie*ρst1- Z2ee*ρst1); @show norm(ρstpm)\n",
    "ρstpm=ρstpm/norm(ρstpm)\n",
    "@show norm(Linb*ρstpm),dot(Ivec,ρstpm)\n",
    "norm(Z2ee*ρstpm+ρstpm),norm(Z2eI*ρstpm-ρstpm),norm(Z2Ie*ρstpm+ρstpm),norm(Z2oo*ρstpm-ρstpm)"
   ]
  },
  {
   "cell_type": "code",
   "execution_count": 277,
   "id": "77f1afcd",
   "metadata": {},
   "outputs": [
    {
     "name": "stdout",
     "output_type": "stream",
     "text": [
      "norm(ρstmp) = 2.000000000000006\n",
      "(norm(Linb * ρstmp), dot(Ivec, ρstmp)) = (6.015048664603527e-15, 5.065392549852277e-16 + 0.0im)\n"
     ]
    },
    {
     "data": {
      "text/plain": [
       "(0.0, 0.0, 0.0, 1.62906529452296e-15)"
      ]
     },
     "execution_count": 277,
     "metadata": {},
     "output_type": "execute_result"
    }
   ],
   "source": [
    "ρstmp=(ρst1 - Z2eI*ρst1 + Z2Ie*ρst1- Z2ee*ρst1); @show norm(ρstmp)\n",
    "ρstmp=ρstmp/norm(ρstmp)\n",
    "@show norm(Linb*ρstmp),dot(Ivec,ρstmp)\n",
    "norm(Z2ee*ρstmp+ρstmp),norm(Z2eI*ρstmp+ρstmp),norm(Z2Ie*ρstmp-ρstmp),norm(Z2oo*ρstmp-ρstmp)"
   ]
  },
  {
   "cell_type": "code",
   "execution_count": 278,
   "id": "f936283d",
   "metadata": {},
   "outputs": [
    {
     "name": "stdout",
     "output_type": "stream",
     "text": [
      "norm(ρstmm) = 2.000000000000006\n",
      "(norm(Linb * ρstmm), dot(Ivec, ρstmm)) = (6.015048664603527e-15, -2.8284271247461845 + 0.0im)\n"
     ]
    },
    {
     "data": {
      "text/plain": [
       "(0.0, 0.0, 0.0, 1.62906529452296e-15)"
      ]
     },
     "execution_count": 278,
     "metadata": {},
     "output_type": "execute_result"
    }
   ],
   "source": [
    "ρstmm=(ρst1 - Z2eI*ρst1 - Z2Ie*ρst1 + Z2ee*ρst1); @show norm(ρstmm)\n",
    "ρstmm=ρstmm/norm(ρstmm)\n",
    "@show norm(Linb*ρstmm),dot(Ivec,ρstmm)\n",
    "norm(Z2ee*ρstmm-ρstmm),norm(Z2eI*ρstmm+ρstmm),norm(Z2Ie*ρstmm+ρstmm),norm(Z2oo*ρstmm-ρstmm)\n"
   ]
  },
  {
   "cell_type": "markdown",
   "id": "ef63e5cf",
   "metadata": {},
   "source": [
    "Understand the wavefunctions of the steady states in the open boundary condition"
   ]
  },
  {
   "cell_type": "code",
   "execution_count": 283,
   "id": "87498a40",
   "metadata": {},
   "outputs": [],
   "source": [
    "Hadamard=[1 1;1 -1]/sqrt(2);\n",
    "Id=Matrix(I,2,2)\n",
    "UHeven=1\n",
    "for j=1:L\n",
    "   rem(j,2)==0 ? UHeven=kron(Hadamard,UHeven) : UHeven=kron(Id,UHeven)\n",
    "end\n",
    "UHeven2=kron(transpose(UHeven),UHeven);"
   ]
  },
  {
   "cell_type": "code",
   "execution_count": 284,
   "id": "541f84e6",
   "metadata": {},
   "outputs": [
    {
     "name": "stdout",
     "output_type": "stream",
     "text": [
      "0.35355339059327295 + 0.0im [0, 0, 0, 0, 0, 0, 0, 0, 0, 0, 0, 0]\n",
      "0.3535533905932727 + 0.0im [0, 1, 1, 1, 0, 0, 0, 1, 1, 1, 0, 0]\n",
      "0.3535533905932727 + 0.0im [1, 0, 1, 0, 1, 0, 1, 0, 1, 0, 1, 0]\n",
      "0.35355339059327273 + 0.0im [1, 1, 0, 1, 1, 0, 1, 1, 0, 1, 1, 0]\n",
      "0.3535533905932726 + 0.0im [1, 1, 0, 0, 0, 1, 1, 1, 0, 0, 0, 1]\n",
      "0.35355339059327234 + 0.0im [1, 0, 1, 1, 0, 1, 1, 0, 1, 1, 0, 1]\n",
      "0.35355339059327257 + 0.0im [0, 1, 1, 0, 1, 1, 0, 1, 1, 0, 1, 1]\n",
      "0.3535533905932726 + 0.0im [0, 0, 0, 1, 1, 1, 0, 0, 0, 1, 1, 1]\n"
     ]
    }
   ],
   "source": [
    "Hρstpp=UHeven2*ρstpp;\n",
    "for i=1:length(ρstpp)\n",
    "    abs(Hρstpp[i]) > 1E-10 ? println(Hρstpp[i],\" \",codetobasis(i-1,2L)) : nothing\n",
    "end"
   ]
  },
  {
   "cell_type": "code",
   "execution_count": 285,
   "id": "212733dc",
   "metadata": {},
   "outputs": [
    {
     "name": "stdout",
     "output_type": "stream",
     "text": [
      "-0.3535533905932726 + 0.0im [1, 1, 0, 0, 0, 0, 1, 1, 0, 0, 0, 0]\n",
      "-0.35355339059327234 + 0.0im [1, 0, 1, 1, 0, 0, 1, 0, 1, 1, 0, 0]\n",
      "-0.35355339059327257 + 0.0im [0, 1, 1, 0, 1, 0, 0, 1, 1, 0, 1, 0]\n",
      "-0.3535533905932726 + 0.0im [0, 0, 0, 1, 1, 0, 0, 0, 0, 1, 1, 0]\n",
      "-0.35355339059327295 + 0.0im [0, 0, 0, 0, 0, 1, 0, 0, 0, 0, 0, 1]\n",
      "-0.3535533905932727 + 0.0im [0, 1, 1, 1, 0, 1, 0, 1, 1, 1, 0, 1]\n",
      "-0.3535533905932727 + 0.0im [1, 0, 1, 0, 1, 1, 1, 0, 1, 0, 1, 1]\n",
      "-0.35355339059327273 + 0.0im [1, 1, 0, 1, 1, 1, 1, 1, 0, 1, 1, 1]\n"
     ]
    }
   ],
   "source": [
    "Hρstmm=UHeven2*ρstmm;\n",
    "for i=1:length(ρstmm)\n",
    "    abs(Hρstmm[i]) > 1E-10 ? println(Hρstmm[i],\" \",codetobasis(i-1,2L)) : nothing\n",
    "end"
   ]
  },
  {
   "cell_type": "code",
   "execution_count": 286,
   "id": "1c9d9e5d",
   "metadata": {},
   "outputs": [
    {
     "name": "stdout",
     "output_type": "stream",
     "text": [
      "-0.3535533905932726 + 0.0im [1, 1, 0, 0, 0, 1, 1, 1, 0, 0, 0, 0]\n",
      "-0.35355339059327234 + 0.0im [1, 0, 1, 1, 0, 1, 1, 0, 1, 1, 0, 0]\n",
      "-0.35355339059327257 + 0.0im [0, 1, 1, 0, 1, 1, 0, 1, 1, 0, 1, 0]\n",
      "-0.3535533905932726 + 0.0im [0, 0, 0, 1, 1, 1, 0, 0, 0, 1, 1, 0]\n",
      "-0.35355339059327295 + 0.0im [0, 0, 0, 0, 0, 0, 0, 0, 0, 0, 0, 1]\n",
      "-0.3535533905932727 + 0.0im [0, 1, 1, 1, 0, 0, 0, 1, 1, 1, 0, 1]\n",
      "-0.3535533905932727 + 0.0im [1, 0, 1, 0, 1, 0, 1, 0, 1, 0, 1, 1]\n",
      "-0.35355339059327273 + 0.0im [1, 1, 0, 1, 1, 0, 1, 1, 0, 1, 1, 1]\n"
     ]
    }
   ],
   "source": [
    "Hρstpm=UHeven2*ρstpm;\n",
    "for i=1:length(ρstpm)\n",
    "    abs(Hρstpm[i]) > 1E-10 ? println(Hρstpm[i],\" \",codetobasis(i-1,2L)) : nothing\n",
    "end"
   ]
  },
  {
   "cell_type": "code",
   "execution_count": 287,
   "id": "1e775ffe",
   "metadata": {},
   "outputs": [
    {
     "name": "stdout",
     "output_type": "stream",
     "text": [
      "0.35355339059327295 + 0.0im [0, 0, 0, 0, 0, 1, 0, 0, 0, 0, 0, 0]\n",
      "0.3535533905932727 + 0.0im [0, 1, 1, 1, 0, 1, 0, 1, 1, 1, 0, 0]\n",
      "0.3535533905932727 + 0.0im [1, 0, 1, 0, 1, 1, 1, 0, 1, 0, 1, 0]\n",
      "0.35355339059327273 + 0.0im [1, 1, 0, 1, 1, 1, 1, 1, 0, 1, 1, 0]\n",
      "0.3535533905932726 + 0.0im [1, 1, 0, 0, 0, 0, 1, 1, 0, 0, 0, 1]\n",
      "0.35355339059327234 + 0.0im [1, 0, 1, 1, 0, 0, 1, 0, 1, 1, 0, 1]\n",
      "0.35355339059327257 + 0.0im [0, 1, 1, 0, 1, 0, 0, 1, 1, 0, 1, 1]\n",
      "0.3535533905932726 + 0.0im [0, 0, 0, 1, 1, 0, 0, 0, 0, 1, 1, 1]\n"
     ]
    }
   ],
   "source": [
    "Hρstmp=UHeven2*ρstmp;\n",
    "for i=1:length(ρstmp)\n",
    "    abs(Hρstmp[i]) > 1E-10 ? println(Hρstmp[i],\" \",codetobasis(i-1,2L)) : nothing\n",
    "end\n"
   ]
  },
  {
   "cell_type": "code",
   "execution_count": null,
   "id": "f153b71c",
   "metadata": {},
   "outputs": [],
   "source": []
  }
 ],
 "metadata": {
  "@webio": {
   "lastCommId": null,
   "lastKernelId": null
  },
  "kernelspec": {
   "display_name": "Julia 1.8.2",
   "language": "julia",
   "name": "julia-1.8"
  },
  "language_info": {
   "file_extension": ".jl",
   "mimetype": "application/julia",
   "name": "julia",
   "version": "1.8.5"
  },
  "varInspector": {
   "cols": {
    "lenName": 16,
    "lenType": 16,
    "lenVar": 40
   },
   "kernels_config": {
    "python": {
     "delete_cmd_postfix": "",
     "delete_cmd_prefix": "del ",
     "library": "var_list.py",
     "varRefreshCmd": "print(var_dic_list())"
    },
    "r": {
     "delete_cmd_postfix": ") ",
     "delete_cmd_prefix": "rm(",
     "library": "var_list.r",
     "varRefreshCmd": "cat(var_dic_list()) "
    }
   },
   "types_to_exclude": [
    "module",
    "function",
    "builtin_function_or_method",
    "instance",
    "_Feature"
   ],
   "window_display": false
  }
 },
 "nbformat": 4,
 "nbformat_minor": 5
}
